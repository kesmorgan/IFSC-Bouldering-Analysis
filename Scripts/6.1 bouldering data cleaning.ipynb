{
 "cells": [
  {
   "cell_type": "markdown",
   "id": "253d65f4",
   "metadata": {},
   "source": [
    "# Contents List\n",
    "- Importing Libraries and Data Frames\n",
    "    - boulder_results_cleaned\n",
    "- Wrangle and Check DF\n",
    "    - General description and shape\n",
    "    - Check for duplicates\n",
    "    - Check values of results and staes columns\n",
    "- Export\n",
    "    - boulder_data_clean_2"
   ]
  },
  {
   "cell_type": "markdown",
   "id": "dead6d01",
   "metadata": {},
   "source": [
    "# 01. Import Libraries and Dataframe"
   ]
  },
  {
   "cell_type": "code",
   "execution_count": 1,
   "id": "f0a74776",
   "metadata": {},
   "outputs": [],
   "source": [
    "import pandas as pd\n",
    "import numpy as np\n",
    "import os"
   ]
  },
  {
   "cell_type": "code",
   "execution_count": 2,
   "id": "c3061a89",
   "metadata": {},
   "outputs": [],
   "source": [
    "path = r'C:\\Users\\kesmc\\Documents\\2023 Bouldering Analysis'"
   ]
  },
  {
   "cell_type": "code",
   "execution_count": 3,
   "id": "64c99732",
   "metadata": {},
   "outputs": [],
   "source": [
    "boulder=pd.read_csv(os.path.join(path, 'Data', 'boulder_results_cleaned.csv'),encoding='latin-1')"
   ]
  },
  {
   "cell_type": "markdown",
   "id": "386d5648",
   "metadata": {},
   "source": [
    "# 02. Wrangle and Check"
   ]
  },
  {
   "cell_type": "code",
   "execution_count": 4,
   "id": "9c15ee11",
   "metadata": {},
   "outputs": [
    {
     "data": {
      "text/html": [
       "<div>\n",
       "<style scoped>\n",
       "    .dataframe tbody tr th:only-of-type {\n",
       "        vertical-align: middle;\n",
       "    }\n",
       "\n",
       "    .dataframe tbody tr th {\n",
       "        vertical-align: top;\n",
       "    }\n",
       "\n",
       "    .dataframe thead th {\n",
       "        text-align: right;\n",
       "    }\n",
       "</style>\n",
       "<table border=\"1\" class=\"dataframe\">\n",
       "  <thead>\n",
       "    <tr style=\"text-align: right;\">\n",
       "      <th></th>\n",
       "      <th>Competition Title</th>\n",
       "      <th>Competition Date</th>\n",
       "      <th>Full Name</th>\n",
       "      <th>Nation</th>\n",
       "      <th>Start Number</th>\n",
       "      <th>Rank</th>\n",
       "      <th>Gender</th>\n",
       "      <th>Qualification</th>\n",
       "      <th>Semifinal</th>\n",
       "      <th>Final</th>\n",
       "    </tr>\n",
       "  </thead>\n",
       "  <tbody>\n",
       "    <tr>\n",
       "      <th>0</th>\n",
       "      <td>IFSC Climbing Worldcup (B) - Vail (USA) 2019</td>\n",
       "      <td>6/7/2019</td>\n",
       "      <td>Janja Garnbret</td>\n",
       "      <td>SLO</td>\n",
       "      <td>2</td>\n",
       "      <td>1</td>\n",
       "      <td>F</td>\n",
       "      <td>5.5</td>\n",
       "      <td>3.4</td>\n",
       "      <td>4.4</td>\n",
       "    </tr>\n",
       "    <tr>\n",
       "      <th>1</th>\n",
       "      <td>IFSC Climbing Worldcup (B) - Vail (USA) 2019</td>\n",
       "      <td>6/7/2019</td>\n",
       "      <td>Akiyo Noguchi</td>\n",
       "      <td>JPN</td>\n",
       "      <td>1</td>\n",
       "      <td>2</td>\n",
       "      <td>F</td>\n",
       "      <td>5.5</td>\n",
       "      <td>3.4</td>\n",
       "      <td>3.4</td>\n",
       "    </tr>\n",
       "    <tr>\n",
       "      <th>2</th>\n",
       "      <td>IFSC Climbing Worldcup (B) - Vail (USA) 2019</td>\n",
       "      <td>6/7/2019</td>\n",
       "      <td>Fanny Gibert</td>\n",
       "      <td>FRA</td>\n",
       "      <td>3</td>\n",
       "      <td>3</td>\n",
       "      <td>F</td>\n",
       "      <td>2.4</td>\n",
       "      <td>4.4</td>\n",
       "      <td>2.4</td>\n",
       "    </tr>\n",
       "    <tr>\n",
       "      <th>3</th>\n",
       "      <td>IFSC Climbing Worldcup (B) - Vail (USA) 2019</td>\n",
       "      <td>6/7/2019</td>\n",
       "      <td>Miho Nonaka</td>\n",
       "      <td>JPN</td>\n",
       "      <td>4</td>\n",
       "      <td>4</td>\n",
       "      <td>F</td>\n",
       "      <td>5.5</td>\n",
       "      <td>2.4</td>\n",
       "      <td>2.4</td>\n",
       "    </tr>\n",
       "    <tr>\n",
       "      <th>4</th>\n",
       "      <td>IFSC Climbing Worldcup (B) - Vail (USA) 2019</td>\n",
       "      <td>6/7/2019</td>\n",
       "      <td>Luce Douady</td>\n",
       "      <td>FRA</td>\n",
       "      <td>50</td>\n",
       "      <td>5</td>\n",
       "      <td>F</td>\n",
       "      <td>5.5</td>\n",
       "      <td>2.4</td>\n",
       "      <td>1.4</td>\n",
       "    </tr>\n",
       "  </tbody>\n",
       "</table>\n",
       "</div>"
      ],
      "text/plain": [
       "                               Competition Title Competition Date  \\\n",
       "0  IFSC Climbing Worldcup (B) - Vail (USA) 2019          6/7/2019   \n",
       "1  IFSC Climbing Worldcup (B) - Vail (USA) 2019          6/7/2019   \n",
       "2  IFSC Climbing Worldcup (B) - Vail (USA) 2019          6/7/2019   \n",
       "3  IFSC Climbing Worldcup (B) - Vail (USA) 2019          6/7/2019   \n",
       "4  IFSC Climbing Worldcup (B) - Vail (USA) 2019          6/7/2019   \n",
       "\n",
       "        Full Name Nation  Start Number  Rank Gender  Qualification  Semifinal  \\\n",
       "0  Janja Garnbret    SLO             2     1      F            5.5        3.4   \n",
       "1   Akiyo Noguchi    JPN             1     2      F            5.5        3.4   \n",
       "2    Fanny Gibert    FRA             3     3      F            2.4        4.4   \n",
       "3     Miho Nonaka    JPN             4     4      F            5.5        2.4   \n",
       "4     Luce Douady    FRA            50     5      F            5.5        2.4   \n",
       "\n",
       "   Final  \n",
       "0    4.4  \n",
       "1    3.4  \n",
       "2    2.4  \n",
       "3    2.4  \n",
       "4    1.4  "
      ]
     },
     "execution_count": 4,
     "metadata": {},
     "output_type": "execute_result"
    }
   ],
   "source": [
    "boulder.head()"
   ]
  },
  {
   "cell_type": "code",
   "execution_count": 5,
   "id": "3041a53a",
   "metadata": {},
   "outputs": [
    {
     "data": {
      "text/plain": [
       "(2328, 10)"
      ]
     },
     "execution_count": 5,
     "metadata": {},
     "output_type": "execute_result"
    }
   ],
   "source": [
    "boulder.shape"
   ]
  },
  {
   "cell_type": "code",
   "execution_count": 6,
   "id": "f91ba880",
   "metadata": {},
   "outputs": [
    {
     "data": {
      "text/html": [
       "<div>\n",
       "<style scoped>\n",
       "    .dataframe tbody tr th:only-of-type {\n",
       "        vertical-align: middle;\n",
       "    }\n",
       "\n",
       "    .dataframe tbody tr th {\n",
       "        vertical-align: top;\n",
       "    }\n",
       "\n",
       "    .dataframe thead th {\n",
       "        text-align: right;\n",
       "    }\n",
       "</style>\n",
       "<table border=\"1\" class=\"dataframe\">\n",
       "  <thead>\n",
       "    <tr style=\"text-align: right;\">\n",
       "      <th></th>\n",
       "      <th>Start Number</th>\n",
       "      <th>Rank</th>\n",
       "      <th>Qualification</th>\n",
       "      <th>Semifinal</th>\n",
       "      <th>Final</th>\n",
       "    </tr>\n",
       "  </thead>\n",
       "  <tbody>\n",
       "    <tr>\n",
       "      <th>count</th>\n",
       "      <td>2328.000000</td>\n",
       "      <td>2328.000000</td>\n",
       "      <td>2328.000000</td>\n",
       "      <td>521.000000</td>\n",
       "      <td>157.000000</td>\n",
       "    </tr>\n",
       "    <tr>\n",
       "      <th>mean</th>\n",
       "      <td>121.796821</td>\n",
       "      <td>47.289089</td>\n",
       "      <td>2.116452</td>\n",
       "      <td>1.666603</td>\n",
       "      <td>2.423567</td>\n",
       "    </tr>\n",
       "    <tr>\n",
       "      <th>std</th>\n",
       "      <td>100.779845</td>\n",
       "      <td>29.262856</td>\n",
       "      <td>1.683099</td>\n",
       "      <td>1.206105</td>\n",
       "      <td>1.273454</td>\n",
       "    </tr>\n",
       "    <tr>\n",
       "      <th>min</th>\n",
       "      <td>1.000000</td>\n",
       "      <td>1.000000</td>\n",
       "      <td>0.000000</td>\n",
       "      <td>0.000000</td>\n",
       "      <td>0.100000</td>\n",
       "    </tr>\n",
       "    <tr>\n",
       "      <th>25%</th>\n",
       "      <td>43.000000</td>\n",
       "      <td>23.000000</td>\n",
       "      <td>0.300000</td>\n",
       "      <td>0.300000</td>\n",
       "      <td>1.300000</td>\n",
       "    </tr>\n",
       "    <tr>\n",
       "      <th>50%</th>\n",
       "      <td>89.000000</td>\n",
       "      <td>45.000000</td>\n",
       "      <td>2.200000</td>\n",
       "      <td>1.400000</td>\n",
       "      <td>2.400000</td>\n",
       "    </tr>\n",
       "    <tr>\n",
       "      <th>75%</th>\n",
       "      <td>188.000000</td>\n",
       "      <td>71.000000</td>\n",
       "      <td>3.400000</td>\n",
       "      <td>2.400000</td>\n",
       "      <td>3.400000</td>\n",
       "    </tr>\n",
       "    <tr>\n",
       "      <th>max</th>\n",
       "      <td>410.000000</td>\n",
       "      <td>125.000000</td>\n",
       "      <td>5.500000</td>\n",
       "      <td>4.400000</td>\n",
       "      <td>4.400000</td>\n",
       "    </tr>\n",
       "  </tbody>\n",
       "</table>\n",
       "</div>"
      ],
      "text/plain": [
       "       Start Number         Rank  Qualification   Semifinal       Final\n",
       "count   2328.000000  2328.000000    2328.000000  521.000000  157.000000\n",
       "mean     121.796821    47.289089       2.116452    1.666603    2.423567\n",
       "std      100.779845    29.262856       1.683099    1.206105    1.273454\n",
       "min        1.000000     1.000000       0.000000    0.000000    0.100000\n",
       "25%       43.000000    23.000000       0.300000    0.300000    1.300000\n",
       "50%       89.000000    45.000000       2.200000    1.400000    2.400000\n",
       "75%      188.000000    71.000000       3.400000    2.400000    3.400000\n",
       "max      410.000000   125.000000       5.500000    4.400000    4.400000"
      ]
     },
     "execution_count": 6,
     "metadata": {},
     "output_type": "execute_result"
    }
   ],
   "source": [
    "boulder.describe()"
   ]
  },
  {
   "cell_type": "code",
   "execution_count": 7,
   "id": "a6ca2df4",
   "metadata": {},
   "outputs": [],
   "source": [
    "# Check for duplicates\n",
    "df_dups=boulder[boulder.duplicated()]"
   ]
  },
  {
   "cell_type": "code",
   "execution_count": 8,
   "id": "7962a57e",
   "metadata": {},
   "outputs": [
    {
     "data": {
      "text/html": [
       "<div>\n",
       "<style scoped>\n",
       "    .dataframe tbody tr th:only-of-type {\n",
       "        vertical-align: middle;\n",
       "    }\n",
       "\n",
       "    .dataframe tbody tr th {\n",
       "        vertical-align: top;\n",
       "    }\n",
       "\n",
       "    .dataframe thead th {\n",
       "        text-align: right;\n",
       "    }\n",
       "</style>\n",
       "<table border=\"1\" class=\"dataframe\">\n",
       "  <thead>\n",
       "    <tr style=\"text-align: right;\">\n",
       "      <th></th>\n",
       "      <th>Competition Title</th>\n",
       "      <th>Competition Date</th>\n",
       "      <th>Full Name</th>\n",
       "      <th>Nation</th>\n",
       "      <th>Start Number</th>\n",
       "      <th>Rank</th>\n",
       "      <th>Gender</th>\n",
       "      <th>Qualification</th>\n",
       "      <th>Semifinal</th>\n",
       "      <th>Final</th>\n",
       "    </tr>\n",
       "  </thead>\n",
       "  <tbody>\n",
       "  </tbody>\n",
       "</table>\n",
       "</div>"
      ],
      "text/plain": [
       "Empty DataFrame\n",
       "Columns: [Competition Title, Competition Date, Full Name, Nation, Start Number, Rank, Gender, Qualification, Semifinal, Final]\n",
       "Index: []"
      ]
     },
     "execution_count": 8,
     "metadata": {},
     "output_type": "execute_result"
    }
   ],
   "source": [
    "df_dups.head(20)"
   ]
  },
  {
   "cell_type": "markdown",
   "id": "86844a4f",
   "metadata": {},
   "source": [
    "No Duplicates"
   ]
  },
  {
   "cell_type": "code",
   "execution_count": 9,
   "id": "159aec2a",
   "metadata": {},
   "outputs": [],
   "source": [
    "#Check data types\n",
    "for col in boulder.columns.tolist():\n",
    "  weird = (boulder[[col]].applymap(type) != boulder[[col]].iloc[0].apply(type)).any(axis = 1)\n",
    "  if len (boulder[weird]) > 0:\n",
    "    print (col)"
   ]
  },
  {
   "cell_type": "code",
   "execution_count": 10,
   "id": "281cb524",
   "metadata": {},
   "outputs": [
    {
     "data": {
      "text/plain": [
       "Competition Title     object\n",
       "Competition Date      object\n",
       "Full Name             object\n",
       "Nation                object\n",
       "Start Number           int64\n",
       "Rank                   int64\n",
       "Gender                object\n",
       "Qualification        float64\n",
       "Semifinal            float64\n",
       "Final                float64\n",
       "dtype: object"
      ]
     },
     "execution_count": 10,
     "metadata": {},
     "output_type": "execute_result"
    }
   ],
   "source": [
    "boulder.dtypes"
   ]
  },
  {
   "cell_type": "markdown",
   "id": "e514cdcc",
   "metadata": {},
   "source": [
    "# 03. Export"
   ]
  },
  {
   "cell_type": "code",
   "execution_count": 11,
   "id": "600e7372",
   "metadata": {},
   "outputs": [],
   "source": [
    "boulder.to_pickle(os.path.join(path, 'Data','boulder_data_clean_2.pkl'))"
   ]
  },
  {
   "cell_type": "code",
   "execution_count": null,
   "id": "584269ea",
   "metadata": {},
   "outputs": [],
   "source": []
  }
 ],
 "metadata": {
  "kernelspec": {
   "display_name": "Python 3 (ipykernel)",
   "language": "python",
   "name": "python3"
  },
  "language_info": {
   "codemirror_mode": {
    "name": "ipython",
    "version": 3
   },
   "file_extension": ".py",
   "mimetype": "text/x-python",
   "name": "python",
   "nbconvert_exporter": "python",
   "pygments_lexer": "ipython3",
   "version": "3.9.13"
  }
 },
 "nbformat": 4,
 "nbformat_minor": 5
}
