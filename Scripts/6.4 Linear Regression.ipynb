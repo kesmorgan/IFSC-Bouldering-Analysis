{
 "cells": [
  {
   "cell_type": "markdown",
   "id": "fd60b016",
   "metadata": {},
   "source": [
    "# Contents\n",
    "    - Import\n",
    "    - Linear Regression\n",
    "        - Scater plot and hypothesis\n",
    "        - Reshape to Arrays\n",
    "        - training and test set\n",
    "        - Fit to test set\n",
    "        - predict test set\n",
    "        - scatterplot with regression line\n",
    "        - model summary stats (slope, mean squared error, r2)\n",
    "        - compare values\n",
    "        - reflection"
   ]
  },
  {
   "cell_type": "markdown",
   "id": "ecb0e1c8",
   "metadata": {},
   "source": [
    "# Import"
   ]
  },
  {
   "cell_type": "code",
   "execution_count": 1,
   "id": "991e880d",
   "metadata": {},
   "outputs": [],
   "source": [
    "import pandas as pd\n",
    "import numpy as np\n",
    "import os\n",
    "import matplotlib\n",
    "import matplotlib.pyplot as plt\n",
    "import seaborn as sns\n",
    "import sklearn\n",
    "from sklearn.model_selection import train_test_split\n",
    "from sklearn.linear_model import LinearRegression\n",
    "from sklearn.metrics import mean_squared_error, r2_score"
   ]
  },
  {
   "cell_type": "code",
   "execution_count": 2,
   "id": "eeb3d1cf",
   "metadata": {},
   "outputs": [],
   "source": [
    "#import df\n",
    "path = r'C:\\Users\\kesmc\\Documents\\2023 Bouldering Analysis'\n",
    "boulder=pd.read_pickle(os.path.join(path, 'Data', 'boulder_data_clean_2.pkl'))"
   ]
  },
  {
   "cell_type": "code",
   "execution_count": 13,
   "id": "01dfe90f",
   "metadata": {},
   "outputs": [
    {
     "data": {
      "text/html": [
       "<div>\n",
       "<style scoped>\n",
       "    .dataframe tbody tr th:only-of-type {\n",
       "        vertical-align: middle;\n",
       "    }\n",
       "\n",
       "    .dataframe tbody tr th {\n",
       "        vertical-align: top;\n",
       "    }\n",
       "\n",
       "    .dataframe thead th {\n",
       "        text-align: right;\n",
       "    }\n",
       "</style>\n",
       "<table border=\"1\" class=\"dataframe\">\n",
       "  <thead>\n",
       "    <tr style=\"text-align: right;\">\n",
       "      <th></th>\n",
       "      <th>Competition Title</th>\n",
       "      <th>Competition Date</th>\n",
       "      <th>Full Name</th>\n",
       "      <th>Nation</th>\n",
       "      <th>Start Number</th>\n",
       "      <th>Rank</th>\n",
       "      <th>Gender</th>\n",
       "      <th>Qualification</th>\n",
       "      <th>Semifinal</th>\n",
       "      <th>Final</th>\n",
       "    </tr>\n",
       "  </thead>\n",
       "  <tbody>\n",
       "    <tr>\n",
       "      <th>0</th>\n",
       "      <td>IFSC Climbing Worldcup (B) - Vail (USA) 2019</td>\n",
       "      <td>6/7/2019</td>\n",
       "      <td>Janja Garnbret</td>\n",
       "      <td>SLO</td>\n",
       "      <td>2</td>\n",
       "      <td>1</td>\n",
       "      <td>F</td>\n",
       "      <td>5.5</td>\n",
       "      <td>3.4</td>\n",
       "      <td>4.4</td>\n",
       "    </tr>\n",
       "    <tr>\n",
       "      <th>1</th>\n",
       "      <td>IFSC Climbing Worldcup (B) - Vail (USA) 2019</td>\n",
       "      <td>6/7/2019</td>\n",
       "      <td>Akiyo Noguchi</td>\n",
       "      <td>JPN</td>\n",
       "      <td>1</td>\n",
       "      <td>2</td>\n",
       "      <td>F</td>\n",
       "      <td>5.5</td>\n",
       "      <td>3.4</td>\n",
       "      <td>3.4</td>\n",
       "    </tr>\n",
       "    <tr>\n",
       "      <th>2</th>\n",
       "      <td>IFSC Climbing Worldcup (B) - Vail (USA) 2019</td>\n",
       "      <td>6/7/2019</td>\n",
       "      <td>Fanny Gibert</td>\n",
       "      <td>FRA</td>\n",
       "      <td>3</td>\n",
       "      <td>3</td>\n",
       "      <td>F</td>\n",
       "      <td>2.4</td>\n",
       "      <td>4.4</td>\n",
       "      <td>2.4</td>\n",
       "    </tr>\n",
       "    <tr>\n",
       "      <th>3</th>\n",
       "      <td>IFSC Climbing Worldcup (B) - Vail (USA) 2019</td>\n",
       "      <td>6/7/2019</td>\n",
       "      <td>Miho Nonaka</td>\n",
       "      <td>JPN</td>\n",
       "      <td>4</td>\n",
       "      <td>4</td>\n",
       "      <td>F</td>\n",
       "      <td>5.5</td>\n",
       "      <td>2.4</td>\n",
       "      <td>2.4</td>\n",
       "    </tr>\n",
       "    <tr>\n",
       "      <th>4</th>\n",
       "      <td>IFSC Climbing Worldcup (B) - Vail (USA) 2019</td>\n",
       "      <td>6/7/2019</td>\n",
       "      <td>Luce Douady</td>\n",
       "      <td>FRA</td>\n",
       "      <td>50</td>\n",
       "      <td>5</td>\n",
       "      <td>F</td>\n",
       "      <td>5.5</td>\n",
       "      <td>2.4</td>\n",
       "      <td>1.4</td>\n",
       "    </tr>\n",
       "  </tbody>\n",
       "</table>\n",
       "</div>"
      ],
      "text/plain": [
       "                               Competition Title Competition Date  \\\n",
       "0  IFSC Climbing Worldcup (B) - Vail (USA) 2019          6/7/2019   \n",
       "1  IFSC Climbing Worldcup (B) - Vail (USA) 2019          6/7/2019   \n",
       "2  IFSC Climbing Worldcup (B) - Vail (USA) 2019          6/7/2019   \n",
       "3  IFSC Climbing Worldcup (B) - Vail (USA) 2019          6/7/2019   \n",
       "4  IFSC Climbing Worldcup (B) - Vail (USA) 2019          6/7/2019   \n",
       "\n",
       "        Full Name Nation  Start Number  Rank Gender  Qualification  Semifinal  \\\n",
       "0  Janja Garnbret    SLO             2     1      F            5.5        3.4   \n",
       "1   Akiyo Noguchi    JPN             1     2      F            5.5        3.4   \n",
       "2    Fanny Gibert    FRA             3     3      F            2.4        4.4   \n",
       "3     Miho Nonaka    JPN             4     4      F            5.5        2.4   \n",
       "4     Luce Douady    FRA            50     5      F            5.5        2.4   \n",
       "\n",
       "   Final  \n",
       "0    4.4  \n",
       "1    3.4  \n",
       "2    2.4  \n",
       "3    2.4  \n",
       "4    1.4  "
      ]
     },
     "execution_count": 13,
     "metadata": {},
     "output_type": "execute_result"
    }
   ],
   "source": [
    "boulder.head()"
   ]
  },
  {
   "cell_type": "markdown",
   "id": "eae54e7d",
   "metadata": {},
   "source": [
    "# Exploration"
   ]
  },
  {
   "cell_type": "code",
   "execution_count": 5,
   "id": "d80604f7",
   "metadata": {},
   "outputs": [
    {
     "data": {
      "image/png": "[encoded data removed]",
      "text/plain": [
       "<Figure size 640x480 with 1 Axes>"
      ]
     },
     "metadata": {},
     "output_type": "display_data"
    }
   ],
   "source": [
    "# rank and qualification scatterplot\n",
    "scatter = sns.scatterplot (x='Rank', y='Qualification', data=boulder)"
   ]
  },
  {
   "cell_type": "markdown",
   "id": "2dd1faeb",
   "metadata": {},
   "source": [
    "Hypothesis: The lower the rank, the higher the qualification scores."
   ]
  },
  {
   "cell_type": "markdown",
   "id": "e10d7f7e",
   "metadata": {},
   "source": [
    "# Linear Regression"
   ]
  },
  {
   "cell_type": "code",
   "execution_count": 6,
   "id": "c86f9422",
   "metadata": {},
   "outputs": [],
   "source": [
    "# Reshape the variables into NumPy arrays\n",
    "X=boulder['Rank'].values.reshape(-1,1)\n",
    "y=boulder['Qualification'].values.reshape(-1,1)"
   ]
  },
  {
   "cell_type": "code",
   "execution_count": 9,
   "id": "a1b539db",
   "metadata": {},
   "outputs": [],
   "source": [
    "# Split the data into a training set and a test set\n",
    "X_train,X_test, y_train, y_test=train_test_split(X,y,test_size=0.3, random_state=0)"
   ]
  },
  {
   "cell_type": "code",
   "execution_count": 10,
   "id": "e08d21a3",
   "metadata": {},
   "outputs": [
    {
     "data": {
      "text/plain": [
       "LinearRegression()"
      ]
     },
     "execution_count": 10,
     "metadata": {},
     "output_type": "execute_result"
    }
   ],
   "source": [
    "# Fit to training set\n",
    "regression=LinearRegression()\n",
    "regression.fit(X_train, y_train)"
   ]
  },
  {
   "cell_type": "code",
   "execution_count": 11,
   "id": "bed18ae8",
   "metadata": {},
   "outputs": [],
   "source": [
    "# predict the values of y using X\n",
    "y_predicted = regression.predict(X_test)"
   ]
  },
  {
   "cell_type": "code",
   "execution_count": 14,
   "id": "33f35ae3",
   "metadata": {},
   "outputs": [
    {
     "data": {
      "image/png": "[encoded data removed]",
      "text/plain": [
       "<Figure size 640x480 with 1 Axes>"
      ]
     },
     "metadata": {},
     "output_type": "display_data"
    }
   ],
   "source": [
    "# Create a plot that shows the regression line from the model on the test set.\n",
    "plot_test = plt\n",
    "plot_test.scatter(X_test, y_test, color='gray', s = 15)\n",
    "plot_test.plot(X_test, y_predicted, color='red', linewidth =3)\n",
    "plot_test.title('Rank vs. Qualification Scores (Test set)')\n",
    "plot_test.xlabel('Rank')\n",
    "plot_test.ylabel('Qualification Scores')\n",
    "plot_test.show()"
   ]
  },
  {
   "cell_type": "markdown",
   "id": "e8744943",
   "metadata": {},
   "source": [
    "Analysis:\n",
    "While there is definitely a negative correlation, it is clear that scores can vary drastically from the regression line making it likely that a regression model will have severe limitations in predicting scores based on rank."
   ]
  },
  {
   "cell_type": "code",
   "execution_count": 16,
   "id": "2818da6c",
   "metadata": {},
   "outputs": [],
   "source": [
    "# Create objects that contain the model summary statistics.\n",
    "rmse = mean_squared_error(y_test, y_predicted) # This is the mean squared error\n",
    "r2 = r2_score(y_test, y_predicted) # This is the R2 score. "
   ]
  },
  {
   "cell_type": "code",
   "execution_count": 17,
   "id": "b4ae578e",
   "metadata": {},
   "outputs": [
    {
     "name": "stdout",
     "output_type": "stream",
     "text": [
      "Slope: [[-0.04684599]]\n",
      "Mean squared error: 0.9362053533314797\n",
      "R2 score: 0.6516991428241752\n"
     ]
    }
   ],
   "source": [
    "# model performance statistics—MSE and R2 score\n",
    "print ('Slope:', regression.coef_)\n",
    "print ('Mean squared error:', rmse)\n",
    "print ( 'R2 score:', r2)"
   ]
  },
  {
   "cell_type": "code",
   "execution_count": 18,
   "id": "9e0245e1",
   "metadata": {},
   "outputs": [
    {
     "data": {
      "text/html": [
       "<div>\n",
       "<style scoped>\n",
       "    .dataframe tbody tr th:only-of-type {\n",
       "        vertical-align: middle;\n",
       "    }\n",
       "\n",
       "    .dataframe tbody tr th {\n",
       "        vertical-align: top;\n",
       "    }\n",
       "\n",
       "    .dataframe thead th {\n",
       "        text-align: right;\n",
       "    }\n",
       "</style>\n",
       "<table border=\"1\" class=\"dataframe\">\n",
       "  <thead>\n",
       "    <tr style=\"text-align: right;\">\n",
       "      <th></th>\n",
       "      <th>Actual</th>\n",
       "      <th>Predicted</th>\n",
       "    </tr>\n",
       "  </thead>\n",
       "  <tbody>\n",
       "    <tr>\n",
       "      <th>0</th>\n",
       "      <td>3.4</td>\n",
       "      <td>1.959317</td>\n",
       "    </tr>\n",
       "    <tr>\n",
       "      <th>1</th>\n",
       "      <td>1.4</td>\n",
       "      <td>1.490857</td>\n",
       "    </tr>\n",
       "    <tr>\n",
       "      <th>2</th>\n",
       "      <td>3.5</td>\n",
       "      <td>3.083621</td>\n",
       "    </tr>\n",
       "    <tr>\n",
       "      <th>3</th>\n",
       "      <td>5.5</td>\n",
       "      <td>4.301617</td>\n",
       "    </tr>\n",
       "    <tr>\n",
       "      <th>4</th>\n",
       "      <td>4.5</td>\n",
       "      <td>3.926849</td>\n",
       "    </tr>\n",
       "    <tr>\n",
       "      <th>5</th>\n",
       "      <td>3.4</td>\n",
       "      <td>3.880003</td>\n",
       "    </tr>\n",
       "    <tr>\n",
       "      <th>6</th>\n",
       "      <td>3.4</td>\n",
       "      <td>3.552081</td>\n",
       "    </tr>\n",
       "    <tr>\n",
       "      <th>7</th>\n",
       "      <td>0.2</td>\n",
       "      <td>-0.382982</td>\n",
       "    </tr>\n",
       "    <tr>\n",
       "      <th>8</th>\n",
       "      <td>2.3</td>\n",
       "      <td>2.427777</td>\n",
       "    </tr>\n",
       "    <tr>\n",
       "      <th>9</th>\n",
       "      <td>1.1</td>\n",
       "      <td>1.022397</td>\n",
       "    </tr>\n",
       "    <tr>\n",
       "      <th>10</th>\n",
       "      <td>0.1</td>\n",
       "      <td>-0.289290</td>\n",
       "    </tr>\n",
       "    <tr>\n",
       "      <th>11</th>\n",
       "      <td>4.4</td>\n",
       "      <td>3.739465</td>\n",
       "    </tr>\n",
       "    <tr>\n",
       "      <th>12</th>\n",
       "      <td>1.2</td>\n",
       "      <td>2.427777</td>\n",
       "    </tr>\n",
       "    <tr>\n",
       "      <th>13</th>\n",
       "      <td>1.4</td>\n",
       "      <td>2.427777</td>\n",
       "    </tr>\n",
       "    <tr>\n",
       "      <th>14</th>\n",
       "      <td>0.0</td>\n",
       "      <td>-1.179364</td>\n",
       "    </tr>\n",
       "    <tr>\n",
       "      <th>15</th>\n",
       "      <td>2.3</td>\n",
       "      <td>2.989929</td>\n",
       "    </tr>\n",
       "    <tr>\n",
       "      <th>16</th>\n",
       "      <td>5.5</td>\n",
       "      <td>4.067387</td>\n",
       "    </tr>\n",
       "    <tr>\n",
       "      <th>17</th>\n",
       "      <td>1.1</td>\n",
       "      <td>1.584549</td>\n",
       "    </tr>\n",
       "    <tr>\n",
       "      <th>18</th>\n",
       "      <td>1.2</td>\n",
       "      <td>1.397165</td>\n",
       "    </tr>\n",
       "    <tr>\n",
       "      <th>19</th>\n",
       "      <td>4.5</td>\n",
       "      <td>3.645773</td>\n",
       "    </tr>\n",
       "    <tr>\n",
       "      <th>20</th>\n",
       "      <td>4.5</td>\n",
       "      <td>2.989929</td>\n",
       "    </tr>\n",
       "    <tr>\n",
       "      <th>21</th>\n",
       "      <td>2.5</td>\n",
       "      <td>1.397165</td>\n",
       "    </tr>\n",
       "    <tr>\n",
       "      <th>22</th>\n",
       "      <td>2.4</td>\n",
       "      <td>2.896237</td>\n",
       "    </tr>\n",
       "    <tr>\n",
       "      <th>23</th>\n",
       "      <td>0.3</td>\n",
       "      <td>0.975551</td>\n",
       "    </tr>\n",
       "    <tr>\n",
       "      <th>24</th>\n",
       "      <td>4.4</td>\n",
       "      <td>3.786311</td>\n",
       "    </tr>\n",
       "    <tr>\n",
       "      <th>25</th>\n",
       "      <td>2.5</td>\n",
       "      <td>2.146701</td>\n",
       "    </tr>\n",
       "    <tr>\n",
       "      <th>26</th>\n",
       "      <td>2.4</td>\n",
       "      <td>2.521469</td>\n",
       "    </tr>\n",
       "    <tr>\n",
       "      <th>27</th>\n",
       "      <td>0.0</td>\n",
       "      <td>-1.179364</td>\n",
       "    </tr>\n",
       "    <tr>\n",
       "      <th>28</th>\n",
       "      <td>4.5</td>\n",
       "      <td>4.207925</td>\n",
       "    </tr>\n",
       "    <tr>\n",
       "      <th>29</th>\n",
       "      <td>3.4</td>\n",
       "      <td>3.271005</td>\n",
       "    </tr>\n",
       "  </tbody>\n",
       "</table>\n",
       "</div>"
      ],
      "text/plain": [
       "    Actual  Predicted\n",
       "0      3.4   1.959317\n",
       "1      1.4   1.490857\n",
       "2      3.5   3.083621\n",
       "3      5.5   4.301617\n",
       "4      4.5   3.926849\n",
       "5      3.4   3.880003\n",
       "6      3.4   3.552081\n",
       "7      0.2  -0.382982\n",
       "8      2.3   2.427777\n",
       "9      1.1   1.022397\n",
       "10     0.1  -0.289290\n",
       "11     4.4   3.739465\n",
       "12     1.2   2.427777\n",
       "13     1.4   2.427777\n",
       "14     0.0  -1.179364\n",
       "15     2.3   2.989929\n",
       "16     5.5   4.067387\n",
       "17     1.1   1.584549\n",
       "18     1.2   1.397165\n",
       "19     4.5   3.645773\n",
       "20     4.5   2.989929\n",
       "21     2.5   1.397165\n",
       "22     2.4   2.896237\n",
       "23     0.3   0.975551\n",
       "24     4.4   3.786311\n",
       "25     2.5   2.146701\n",
       "26     2.4   2.521469\n",
       "27     0.0  -1.179364\n",
       "28     4.5   4.207925\n",
       "29     3.4   3.271005"
      ]
     },
     "execution_count": 18,
     "metadata": {},
     "output_type": "execute_result"
    }
   ],
   "source": [
    "# Compare the predicted y values with the actual y \n",
    "data=pd.DataFrame({'Actual': y_test.flatten(), 'Predicted': y_predicted.flatten()})\n",
    "data.head(30)"
   ]
  },
  {
   "cell_type": "markdown",
   "id": "5cdd05e0",
   "metadata": {},
   "source": [
    "Thoughts on how well the model performed on the test?\n",
    "The model is not a great fit. While it can give some ballpark predictions is isn't consistently close enough to the actual data. The actual data is too sporadic though does follow some a negative correlation trend losely.\n",
    "\n",
    "Any reflections you have on the impact of possible data bias?\n",
    "I don't believe there is data bias. There is however inconsistency of the level of difficulty for qualification competions that will impact the scores of competitors that should be taken into consideration (and also makes the qualification scores harder to predict."
   ]
  },
  {
   "cell_type": "code",
   "execution_count": null,
   "id": "cae4c8c9",
   "metadata": {},
   "outputs": [],
   "source": []
  }
 ],
 "metadata": {
  "kernelspec": {
   "display_name": "Python 3 (ipykernel)",
   "language": "python",
   "name": "python3"
  },
  "language_info": {
   "codemirror_mode": {
    "name": "ipython",
    "version": 3
   },
   "file_extension": ".py",
   "mimetype": "text/x-python",
   "name": "python",
   "nbconvert_exporter": "python",
   "pygments_lexer": "ipython3",
   "version": "3.9.13"
  }
 },
 "nbformat": 4,
 "nbformat_minor": 5
}
